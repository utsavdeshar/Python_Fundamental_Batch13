{
 "cells": [
  {
   "cell_type": "code",
   "execution_count": 1,
   "metadata": {},
   "outputs": [
    {
     "data": {
      "text/plain": [
       "9"
      ]
     },
     "execution_count": 1,
     "metadata": {},
     "output_type": "execute_result"
    }
   ],
   "source": [
    "x=5\n",
    "y=4\n",
    "x+y # adding operantion"
   ]
  },
  {
   "cell_type": "code",
   "execution_count": 8,
   "metadata": {},
   "outputs": [
    {
     "name": "stdout",
     "output_type": "stream",
     "text": [
      "utsav\n",
      "deshar\n"
     ]
    }
   ],
   "source": [
    "#1st rule\n",
    "#firstcase\n",
    "first_name='utsav'\n",
    "print(first_name)\n",
    "\n",
    "last_name='deshar'\n",
    "print(last_name)"
   ]
  },
  {
   "cell_type": "code",
   "execution_count": 11,
   "metadata": {},
   "outputs": [
    {
     "name": "stdout",
     "output_type": "stream",
     "text": [
      "utsav\n",
      "deshar\n"
     ]
    }
   ],
   "source": [
    "#secondcase\n",
    "firstname='utsav'\n",
    "print(firstname)\n",
    "lastname='deshar'\n",
    "print(lastname)\n"
   ]
  },
  {
   "cell_type": "code",
   "execution_count": 14,
   "metadata": {},
   "outputs": [
    {
     "name": "stdout",
     "output_type": "stream",
     "text": [
      "test\n",
      "utsav\n"
     ]
    }
   ],
   "source": [
    "# 2nd rule---should not start with a number\n",
    "n1me='test'\n",
    "print(n1me)\n",
    "\n",
    "name1='utsav'\n",
    "print(name1)\n"
   ]
  },
  {
   "cell_type": "code",
   "execution_count": null,
   "metadata": {},
   "outputs": [],
   "source": [
    "#3rd rules----should not use any special characters with dec. and var name;"
   ]
  },
  {
   "cell_type": "code",
   "execution_count": 19,
   "metadata": {},
   "outputs": [
    {
     "name": "stdout",
     "output_type": "stream",
     "text": [
      "hari\n",
      "sankar\n",
      "utsav\n"
     ]
    }
   ],
   "source": [
    "#string\n",
    "#3 way of defining a string\n",
    "  #1.''-----single quotes\n",
    "  #2.\"\"-----double quotes\n",
    "  #3.\"\"\"\"\"\"\"\"\"\"---triple quotes\n",
    "    \n",
    "first_name=\"hari\"\n",
    "print(first_name)\n",
    "\n",
    "last_name='sankar'\n",
    "print(last_name)\n",
    "\n",
    "name=\"\"\"utsav\"\"\"\n",
    "print(name)"
   ]
  },
  {
   "cell_type": "code",
   "execution_count": 20,
   "metadata": {},
   "outputs": [
    {
     "name": "stdout",
     "output_type": "stream",
     "text": [
      "utsav deshar\n"
     ]
    }
   ],
   "source": [
    "#string methods\n",
    "name='utsav deshar'\n",
    "print(name)"
   ]
  },
  {
   "cell_type": "code",
   "execution_count": 25,
   "metadata": {},
   "outputs": [
    {
     "name": "stdout",
     "output_type": "stream",
     "text": [
      "Robin Roy\n"
     ]
    }
   ],
   "source": [
    "name='robin roy' #enhancement of the code\n",
    "print(name.title()) # title()--converts first letter to capital."
   ]
  },
  {
   "cell_type": "code",
   "execution_count": 26,
   "metadata": {},
   "outputs": [
    {
     "name": "stdout",
     "output_type": "stream",
     "text": [
      "ROBIN ROY\n"
     ]
    }
   ],
   "source": [
    "#all letters in capital\n",
    "print(name.upper())"
   ]
  },
  {
   "cell_type": "code",
   "execution_count": 27,
   "metadata": {},
   "outputs": [
    {
     "name": "stdout",
     "output_type": "stream",
     "text": [
      "robin roy\n"
     ]
    }
   ],
   "source": [
    "#all letters converts to small\n",
    "print(name.lower())"
   ]
  },
  {
   "cell_type": "code",
   "execution_count": 57,
   "metadata": {},
   "outputs": [
    {
     "name": "stdout",
     "output_type": "stream",
     "text": [
      "riya kumari rai\n"
     ]
    }
   ],
   "source": [
    "#f strings\n",
    "first_name=\"riya\"\n",
    "middle_name=\"kumari\"\n",
    "last_name=\"rai\"\n",
    "full_name=f\"{first_name} {middle_name} {last_name}\"\n",
    "print(full_name)"
   ]
  },
  {
   "cell_type": "code",
   "execution_count": 58,
   "metadata": {},
   "outputs": [
    {
     "name": "stdout",
     "output_type": "stream",
     "text": [
      "Riya Kumari Rai\n"
     ]
    }
   ],
   "source": [
    "print(full_name.title())"
   ]
  },
  {
   "cell_type": "code",
   "execution_count": null,
   "metadata": {},
   "outputs": [],
   "source": []
  }
 ],
 "metadata": {
  "kernelspec": {
   "display_name": "Python 3",
   "language": "python",
   "name": "python3"
  },
  "language_info": {
   "codemirror_mode": {
    "name": "ipython",
    "version": 3
   },
   "file_extension": ".py",
   "mimetype": "text/x-python",
   "name": "python",
   "nbconvert_exporter": "python",
   "pygments_lexer": "ipython3",
   "version": "3.7.4"
  }
 },
 "nbformat": 4,
 "nbformat_minor": 2
}
